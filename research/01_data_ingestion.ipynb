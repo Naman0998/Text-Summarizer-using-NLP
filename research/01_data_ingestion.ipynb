{
  "nbformat": 4,
  "nbformat_minor": 0,
  "metadata": {
    "colab": {
      "provenance": [],
      "gpuType": "T4"
    },
    "kernelspec": {
      "name": "python3",
      "display_name": "Python 3"
    },
    "language_info": {
      "name": "python"
    },
    "accelerator": "GPU"
  },
  "cells": [
    {
      "cell_type": "code",
      "execution_count": 1,
      "metadata": {
        "id": "MQHjNtYS2eod"
      },
      "outputs": [],
      "source": [
        "import os"
      ]
    },
    {
      "cell_type": "code",
      "source": [
        "%pwd"
      ],
      "metadata": {
        "colab": {
          "base_uri": "https://localhost:8080/",
          "height": 35
        },
        "id": "3LpOmZCq22Id",
        "outputId": "9730b805-df56-473d-eab8-5eb725c34857"
      },
      "execution_count": 2,
      "outputs": [
        {
          "output_type": "execute_result",
          "data": {
            "text/plain": [
              "'/content'"
            ],
            "application/vnd.google.colaboratory.intrinsic+json": {
              "type": "string"
            }
          },
          "metadata": {},
          "execution_count": 2
        }
      ]
    },
    {
      "cell_type": "code",
      "source": [
        "os.chdir(\"../\")"
      ],
      "metadata": {
        "id": "WmC61lhj48wU"
      },
      "execution_count": null,
      "outputs": []
    },
    {
      "cell_type": "code",
      "source": [
        "%pwd"
      ],
      "metadata": {
        "id": "yye0lgJL5BSA"
      },
      "execution_count": null,
      "outputs": []
    },
    {
      "cell_type": "code",
      "source": [
        "from dataclasses import dataclass\n",
        "from pathlib import Path\n",
        "\n",
        "@dataclass(frozen=True)\n",
        "class DataIngestionConfig:\n",
        "    root_dir: Path\n",
        "    source_URL: str\n",
        "    local_data_file: Path\n",
        "    unzip_dir: Path"
      ],
      "metadata": {
        "id": "HqB3SDGL26jI"
      },
      "execution_count": null,
      "outputs": []
    },
    {
      "cell_type": "code",
      "source": [
        "from textSummarizer.constants import *\n",
        "from textSummarizer.utils.common import read_yaml, create_directories\n"
      ],
      "metadata": {
        "id": "ExT_h92b29lJ"
      },
      "execution_count": null,
      "outputs": []
    },
    {
      "cell_type": "code",
      "source": [
        "class ConfigurationManager:\n",
        "    def __init__(\n",
        "        self,\n",
        "        config_filepath = CONFIG_FILE_PATH,\n",
        "        params_filepath = PARAMS_FILE_PATH):\n",
        "\n",
        "        self.config = read_yaml(config_filepath)\n",
        "        self.params = read_yaml(params_filepath)\n",
        "\n",
        "        create_directories([self.config.artifacts_root])\n",
        "\n",
        "\n",
        "\n",
        "    def get_data_ingestion_config(self) -> DataIngestionConfig:\n",
        "        config = self.config.data_ingestion\n",
        "\n",
        "        create_directories([config.root_dir])\n",
        "\n",
        "        data_ingestion_config = DataIngestionConfig(\n",
        "            root_dir=config.root_dir,\n",
        "            source_URL=config.source_URL,\n",
        "            local_data_file=config.local_data_file,\n",
        "            unzip_dir=config.unzip_dir\n",
        "        )\n",
        "\n",
        "        return data_ingestion_config"
      ],
      "metadata": {
        "id": "3zXqVPOt3Ccu"
      },
      "execution_count": null,
      "outputs": []
    },
    {
      "cell_type": "code",
      "source": [
        "import os\n",
        "import urllib.request as request\n",
        "import zipfile\n",
        "from textSummarizer.logging import logger\n",
        "from textSummarizer.utils.common import get_size"
      ],
      "metadata": {
        "id": "HDLlrUMl3F_9"
      },
      "execution_count": null,
      "outputs": []
    },
    {
      "cell_type": "code",
      "source": [
        "class DataIngestion:\n",
        "    def __init__(self, config: DataIngestionConfig):\n",
        "        self.config = config\n",
        "\n",
        "\n",
        "\n",
        "    def download_file(self):\n",
        "        if not os.path.exists(self.config.local_data_file):\n",
        "            filename, headers = request.urlretrieve(\n",
        "                url = self.config.source_URL,\n",
        "                filename = self.config.local_data_file\n",
        "            )\n",
        "            logger.info(f\"{filename} download! with following info: \\n{headers}\")\n",
        "        else:\n",
        "            logger.info(f\"File already exists of size: {get_size(Path(self.config.local_data_file))}\")\n",
        "\n",
        "\n",
        "\n",
        "    def extract_zip_file(self):\n",
        "        \"\"\"\n",
        "        zip_file_path: str\n",
        "        Extracts the zip file into the data directory\n",
        "        Function returns None\n",
        "        \"\"\"\n",
        "        unzip_path = self.config.unzip_dir\n",
        "        os.makedirs(unzip_path, exist_ok=True)\n",
        "        with zipfile.ZipFile(self.config.local_data_file, 'r') as zip_ref:\n",
        "            zip_ref.extractall(unzip_path)"
      ],
      "metadata": {
        "id": "ieIW6tUy3Ien"
      },
      "execution_count": null,
      "outputs": []
    },
    {
      "cell_type": "code",
      "source": [
        "try:\n",
        "    config = ConfigurationManager()\n",
        "    data_ingestion_config = config.get_data_ingestion_config()\n",
        "    data_ingestion = DataIngestion(config=data_ingestion_config)\n",
        "    data_ingestion.download_file()\n",
        "    data_ingestion.extract_zip_file()\n",
        "except Exception as e:\n",
        "    raise e"
      ],
      "metadata": {
        "id": "LLiXwgoD3Lmc"
      },
      "execution_count": null,
      "outputs": []
    }
  ]
}